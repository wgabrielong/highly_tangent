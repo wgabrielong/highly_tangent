{
 "cells": [
  {
   "cell_type": "markdown",
   "id": "7fbfea82-7992-4434-ac42-c21078c1adf9",
   "metadata": {},
   "source": [
    "<h2> Cubic Curve </h2>\n",
    "\n",
    "In this file, we compute the trivializations and sections for the case of the flexes to a cubic curve. \n",
    "\n",
    "Let's first define our function taking the univariate Hasse derivative. "
   ]
  },
  {
   "cell_type": "code",
   "execution_count": 1,
   "id": "25754dd0-76d4-437e-864b-a2fb3922dcfd",
   "metadata": {},
   "outputs": [],
   "source": [
    "# Function for the univariate Hasse derivative. \n",
    "def univariate_hasse_derivative(F, v, d):\n",
    "    output = U(0)\n",
    "    deg = F.degree(v)\n",
    "    if d == 0:\n",
    "        return F\n",
    "    elif d > deg:\n",
    "        return 0\n",
    "    else:\n",
    "        coeffs_list = [UX(F).monomial_coefficient(UX(v^i)) for i in range(deg + 1)]\n",
    "        for j in range(d, deg + 1):\n",
    "            output += U(binomial(j, d)*coeffs_list[j]*v^(j-d))\n",
    "        return UX(output)"
   ]
  },
  {
   "cell_type": "markdown",
   "id": "fefa4563-35cb-427e-aba9-d3dc8a92aa90",
   "metadata": {},
   "source": [
    "Let $[X_{0}:X_{1}:X_{2}]$ be the coordinates on $\\mathbb{P}^{2}$.  \n",
    "\n",
    "Recall that the space of sections $\\Gamma\\left(\\mathbb{P}^{2},\\mathcal{O}_{\\mathbb{P}^{2}}(3)\\right)$ has dimension $\\binom{5}{3}=10$. Let the coordinates be $a_{ijk}$ for the standard monomial $X_{0}^{i}X_{1}^{j}X_{2}^{k}$. \n",
    "\n",
    "Our line is given by the row span of the matrix \n",
    "$$\\begin{bmatrix}\n",
    "    x_{1,1} & 1 & 0 \\\\ x_{2,1} & 0 & 1\n",
    "\\end{bmatrix}$$\n",
    "or equivalently cut out by the equation\n",
    "$$X_{0}-x_{1,1}X_{1}-x_{2,1}X_{2}.$$\n",
    "\n",
    "Our point, depending on the trivialization $V_{0}=[1:t]$ or $V_{1}=[t:1]$ of $\\mathbb{P}^{1}$ is \n",
    "$$[x_{1,1}+tx_{2,1}:1:t]\\hspace{0.5cm}\\text{or}\\hspace{0.5cm}[tx_{1,1}+x_{2,1}:t:1].$$"
   ]
  },
  {
   "cell_type": "code",
   "execution_count": 2,
   "id": "b332d139-e5ca-4c80-a8db-b7adb2b76a44",
   "metadata": {},
   "outputs": [],
   "source": [
    "# Define the a's\n",
    "a_ijk = {(i, j, k): var('a_' + str(i) + str(j) + str(k)) for i in range(4) for j in range(4) for k in range(4) if i + j + k == 3}\n",
    "\n",
    "# Define the X_i's\n",
    "X = [var('X_' + str(i)) for i in range(3)]\n",
    "    \n",
    "# Define the x_ij's and t\n",
    "var('x_11, x_12, t')\n",
    "    \n",
    "# Define polynomial rings\n",
    "U = QQ[a_003, a_012, a_021, a_030, a_102, a_111, a_120, a_201, a_210, a_300, x_11, x_12, t, X_0, X_1, X_2]\n",
    "UX = QQ[a_003, a_012, a_021, a_030, a_102, a_111, a_120, a_201, a_210, a_300, x_11, x_12, t][X_0, X_1, X_2]"
   ]
  },
  {
   "cell_type": "markdown",
   "id": "1f436309-ee33-4010-a6a4-5fe26dbd8c2c",
   "metadata": {},
   "source": [
    "Let `F` be the defining equation of the cubic curve."
   ]
  },
  {
   "cell_type": "code",
   "execution_count": 3,
   "id": "759091c1-d247-4186-8502-22a53f4d290c",
   "metadata": {},
   "outputs": [],
   "source": [
    "F = U(sum(a_ijk[i, j, k] * X[0]^i * X[1]^j * X[2]^k for i, j, k in a_ijk))"
   ]
  },
  {
   "cell_type": "markdown",
   "id": "f83a9216-5313-4048-a9cb-029eaafe66dd",
   "metadata": {},
   "source": [
    "Construct an ideal `I` defined by the intersection of the line and the quintic surface."
   ]
  },
  {
   "cell_type": "code",
   "execution_count": 4,
   "id": "b8fde3ad-d582-49e1-b8cf-e4f77e8e1ed6",
   "metadata": {},
   "outputs": [],
   "source": [
    "I = U.ideal(F, X_0 - x_11*X_1 - x_12*X_2)"
   ]
  },
  {
   "cell_type": "markdown",
   "id": "4e1420a5-8b6b-40e6-9f1d-10470355533a",
   "metadata": {},
   "source": [
    "Let `FL` be the restriction of the quintic surface to the line, defined by eliminating the variables `X_0` from the ideal `I`. "
   ]
  },
  {
   "cell_type": "code",
   "execution_count": 5,
   "id": "71337ac3-3838-4b25-a424-bba25bc7c3a8",
   "metadata": {},
   "outputs": [],
   "source": [
    "J = I.elimination_ideal([U(X_0)])"
   ]
  },
  {
   "cell_type": "code",
   "execution_count": 6,
   "id": "55495364-60f0-404a-bd71-10d821d22383",
   "metadata": {},
   "outputs": [
    {
     "data": {
      "text/plain": [
       "1"
      ]
     },
     "execution_count": 6,
     "metadata": {},
     "output_type": "execute_result"
    }
   ],
   "source": [
    "J.ngens()"
   ]
  },
  {
   "cell_type": "code",
   "execution_count": 7,
   "id": "c1cd12ed-3bc1-48bc-82ce-f2c82f3734b8",
   "metadata": {},
   "outputs": [],
   "source": [
    "FL = U(J.gens()[0])"
   ]
  },
  {
   "cell_type": "markdown",
   "id": "f322ddff-d653-4295-ab13-dcce653e548b",
   "metadata": {},
   "source": [
    "Depending on our patch of $\\mathbb{P}^{1}$, we have different trivializations. "
   ]
  },
  {
   "cell_type": "markdown",
   "id": "386b6161-0714-40f9-bb86-4397976504f5",
   "metadata": {},
   "source": [
    "<h2> On the Patch $V_{0}$ </h2>\n",
    "We have $X_{1}=1$. Denote the restriction of <code>FL</code> to this chart by <code>FL_1</code>. We compute the sections as <code>FL_1_0, ..., FL_1_2</code> with <code>F_1_i</code> denoting the i-th Hasse derivative. "
   ]
  },
  {
   "cell_type": "code",
   "execution_count": 8,
   "id": "d42a6344-ed42-4e9e-9421-588d31502253",
   "metadata": {},
   "outputs": [],
   "source": [
    "FL_1 = U(FL.subs(X_1 = 1))"
   ]
  },
  {
   "cell_type": "code",
   "execution_count": 9,
   "id": "c97a1670-608c-45fa-b5d0-2dab16741c29",
   "metadata": {},
   "outputs": [],
   "source": [
    "FL_1_0 = FL_1.subs(X_2 = t)"
   ]
  },
  {
   "cell_type": "code",
   "execution_count": 10,
   "id": "9d940420-29ed-4398-9047-63db43e2b691",
   "metadata": {},
   "outputs": [],
   "source": [
    "FL_1_1 = univariate_hasse_derivative(FL_1, U(X_2), 1).subs(X_2 = t)"
   ]
  },
  {
   "cell_type": "code",
   "execution_count": 11,
   "id": "3c82327c-853b-4bd8-833a-e81f2a509308",
   "metadata": {},
   "outputs": [],
   "source": [
    "FL_2_2 = univariate_hasse_derivative(FL_1, U(X_2), 2).subs(X_2 = t)"
   ]
  },
  {
   "cell_type": "markdown",
   "id": "d6d60275-8bda-4da3-9210-ed8bbbaf1b36",
   "metadata": {},
   "source": [
    "<h2> On the Patch $V_{1}$ </h2>\n",
    "We have $X_{2}=1$. Denote the restriction of <code>FL</code> to this chart by <code>FL_2</code>. We compute the sections as <code>FL_2_0, ..., FL_2_2</code> with <code>F_3_i</code> denoting the i-th Hasse derivative. "
   ]
  },
  {
   "cell_type": "code",
   "execution_count": 12,
   "id": "4b814509-0fc9-4f6e-908e-140d6334fc46",
   "metadata": {},
   "outputs": [],
   "source": [
    "FL_2 = U(FL.subs(X_2 = 1))"
   ]
  },
  {
   "cell_type": "code",
   "execution_count": 13,
   "id": "cc8a541f-4321-456a-a455-38ad4809618a",
   "metadata": {},
   "outputs": [],
   "source": [
    "FL_2_0 = FL_2.subs(X_1 = t)"
   ]
  },
  {
   "cell_type": "code",
   "execution_count": 14,
   "id": "c1469607-59f2-4d02-9b02-78c0e6207ac3",
   "metadata": {},
   "outputs": [],
   "source": [
    "FL_2_1 = univariate_hasse_derivative(FL_2, U(X_1), 1).subs(X_1 = t)"
   ]
  },
  {
   "cell_type": "code",
   "execution_count": 15,
   "id": "daf6cbc1-e36f-42c0-a825-2c907eb0474f",
   "metadata": {},
   "outputs": [],
   "source": [
    "FL_2_2 = univariate_hasse_derivative(FL_2, U(X_1), 2).subs(X_1 = t)"
   ]
  }
 ],
 "metadata": {
  "kernelspec": {
   "display_name": "SageMath 9.5",
   "language": "sage",
   "name": "sagemath-9.5"
  },
  "language_info": {
   "codemirror_mode": {
    "name": "ipython",
    "version": 3
   },
   "file_extension": ".py",
   "mimetype": "text/x-python",
   "name": "python",
   "nbconvert_exporter": "python",
   "pygments_lexer": "ipython3",
   "version": "3.9.7"
  }
 },
 "nbformat": 4,
 "nbformat_minor": 5
}
