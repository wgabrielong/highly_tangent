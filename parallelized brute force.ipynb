{
 "cells": [
  {
   "cell_type": "code",
   "execution_count": 1,
   "id": "cd944924-0dd0-4ff4-ab8c-a1abb00720b7",
   "metadata": {},
   "outputs": [],
   "source": [
    "from multiprocessing import Pool\n",
    "import math"
   ]
  },
  {
   "cell_type": "code",
   "execution_count": 2,
   "id": "9cd797ca-256b-47d2-9ff9-772573e8263d",
   "metadata": {},
   "outputs": [],
   "source": [
    "def A(r, m):\n",
    "    return -1 + (m*math.comb(m+r-1,m))/r\n",
    "\n",
    "def B(r, m):\n",
    "    return ((m-1)*math.comb(m+r-1,m-1))/(r+1)"
   ]
  },
  {
   "cell_type": "code",
   "execution_count": 3,
   "id": "84408923-8552-4ef0-8431-a817b2e8fb44",
   "metadata": {},
   "outputs": [],
   "source": [
    "def find_solutions(args):\n",
    "    min_val, max_val, m = args\n",
    "    solutions = []\n",
    "    for n in range(min_val, max_val):\n",
    "        for r in range(min_val, min(n, max_val+1)):\n",
    "            if (r**2*(n-r) + r*n == m*math.comb(m+r-1,m)) and (m*(1+A(r,m)) % 2 == 0) and (((-r-1)*B(r,m)-r-1) % 2 == 0) and ((B(r,m)-n) % 2 == 0):\n",
    "                solutions.append((m, r, m, n))\n",
    "            elif (r**2*(n-r) + r*n == m*math.comb(m+r-1,m)) and ((m+1)*(1+A(r,m)) % 2 == 0) and (((-r-1)*B(r,m)-r-1) % 2 == 0) and ((B(r,m)-n) % 2 == 0):\n",
    "                solutions.append((m+1,r,m,n))\n",
    "    return solutions\n",
    "\n",
    "def find_solutions_parallel(min_val, max_val, num_processes, chunk_size):\n",
    "    with Pool(processes=num_processes) as pool:\n",
    "        args = [(min_val, max_val, m) for m in range(min_val, max_val)]\n",
    "        result = pool.map(find_solutions, args, chunksize=chunk_size)\n",
    "    return [solution for sublist in result for solution in sublist]  # flatten the result\n"
   ]
  },
  {
   "cell_type": "code",
   "execution_count": null,
   "id": "0af129b8-eee9-49d5-b241-c6475955906e",
   "metadata": {},
   "outputs": [],
   "source": [
    "# Test the function with 64 processes and a chunk size of 10\n",
    "%time find_solutions_parallel(1, 2000, 32, 20)"
   ]
  },
  {
   "cell_type": "code",
   "execution_count": null,
   "id": "7eb1e7cf-7b68-4209-a8ec-7be9311e24ef",
   "metadata": {},
   "outputs": [],
   "source": []
  }
 ],
 "metadata": {
  "kernelspec": {
   "display_name": "Python 3.10",
   "language": "python",
   "name": "python3.10"
  },
  "language_info": {
   "codemirror_mode": {
    "name": "ipython",
    "version": 3
   },
   "file_extension": ".py",
   "mimetype": "text/x-python",
   "name": "python",
   "nbconvert_exporter": "python",
   "pygments_lexer": "ipython3",
   "version": "3.10.8"
  }
 },
 "nbformat": 4,
 "nbformat_minor": 5
}
