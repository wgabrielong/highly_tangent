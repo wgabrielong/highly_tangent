{
 "cells": [
  {
   "cell_type": "markdown",
   "id": "c421ac9c-248b-4c4d-82fc-0609c00036ce",
   "metadata": {},
   "source": [
    "<h2> Quintic Surface </h2>\n",
    "\n",
    "In this file, we compute the trivializations and sections for the case of the highly tangent lines to the quntic surface. \n",
    "\n",
    "Let's first define our function taking the univariate Hasse derivative. "
   ]
  },
  {
   "cell_type": "code",
   "execution_count": 1,
   "id": "fc0586d4-1a9b-4e3d-b88b-f4dc7c2f402e",
   "metadata": {},
   "outputs": [],
   "source": [
    "# Function for the univariate Hasse derivative. \n",
    "def univariate_hasse_derivative(F, v, d):\n",
    "    output = U(0)\n",
    "    deg = F.degree(v)\n",
    "    if d == 0:\n",
    "        return F\n",
    "    elif d > deg:\n",
    "        return 0\n",
    "    else:\n",
    "        coeffs_list = [UX(F).monomial_coefficient(UX(v^i)) for i in range(deg + 1)]\n",
    "        for j in range(d, deg + 1):\n",
    "            output += U(binomial(j, d)*coeffs_list[j]*v^(j-d))\n",
    "        return UX(output)"
   ]
  },
  {
   "cell_type": "markdown",
   "id": "5e633dcf-b227-4c66-a00c-0c855388f788",
   "metadata": {},
   "source": [
    "Let $[X_{0}:X_{1}:X_{2}:X_{3}]$ be the coordinates on $\\mathbb{P}^{3}$.  \n",
    "\n",
    "Recall that the space of sections $\\Gamma\\left(\\mathbb{P}^{3},\\mathcal{O}_{\\mathbb{P}^{3}}(5)\\right)$ has dimension $\\binom{8}{5}=56$. Let the coordinates be $a_{ijkl}$ for the standard monomial $X_{0}^{i}X_{1}^{j}X_{2}^{k}X_{3}^{l}$. \n",
    "\n",
    "Our line is given by the row span of the matrix \n",
    "$$\\begin{bmatrix}\n",
    "    x_{1,1} & x_{1,2} & 1 & 0 \\\\ x_{2,1} & x_{2,2} & 0 & 1\n",
    "\\end{bmatrix}$$\n",
    "or equivalently cut out by the equations \n",
    "$$-\\frac{x_{1,2}}{x_{1,2}x_{2,1}-x_{1,1}x_{2,1}}\\cdot X_{0}+\\frac{x_{1,1}}{x_{1,2}x_{2,1}-x_{1,1}x_{2,1}}\\cdot X_{1} + X_{3}\\hspace{0.5cm}=\\hspace{0.5cm}-x_{1,2}X_{0}+x_{1,1}X_{1}+(x_{1,2}x_{2,1}-x_{1,1}x_{2,2})X_{3}$$\n",
    "$$\\frac{x_{2,2}}{x_{1,2}x_{2,1}-x_{1,1}x_{2,2}}\\cdot X_{0} - \\frac{x_{2,1}}{x_{1,2}x_{2,1}-x_{1,1}x_{2,2}}\\cdot X_{1} +X_{2}\\hspace{0.5cm}=\\hspace{0.5cm} x_{2,2}X_{0}-x_{2,1}X_{1}+(x_{1,2}x_{2,1}-x_{1,1}x_{2,2})X_{2}.$$\n",
    "\n",
    "Our point, depending on the trivialization $V_{0}=[1:t]$ or $V_{1}=[t:1]$ of $\\mathbb{P}^{1}$ is \n",
    "$$[x_{1,1}+tx_{2,1}:x_{1,2}+tx_{2,2}:1:t]\\hspace{0.5cm}\\text{or}\\hspace{0.5cm}[tx_{1,1}+x_{2,1}:tx_{1,2}+x_{2,2}:t:1].$$"
   ]
  },
  {
   "cell_type": "code",
   "execution_count": 2,
   "id": "96c5cae7-3de1-478f-acd4-0031b72433c2",
   "metadata": {},
   "outputs": [],
   "source": [
    "# Define the a's\n",
    "a_ijkl = {(i, j, k, l): var('a_' + str(i) + str(j) + str(k) + str(l)) for i in range(6) for j in range(6) for k in range(6) for l in range(6) if i + j + k + l == 5}\n",
    "\n",
    "# Define the X_i's\n",
    "X = [var('X_' + str(i)) for i in range(4)]\n",
    "    \n",
    "# Define the x_ij's and t\n",
    "var('x_11, x_12, x_21, x_22, t')\n",
    "    \n",
    "# Define polynomial rings\n",
    "U = QQ[a_0005, a_0014, a_0023, a_0032, a_0041, a_0050, a_0104, a_0113, a_0122, a_0131, a_0140, a_0203, a_0212, a_0221, a_0230, a_0302, a_0311, a_0320,\n",
    "       a_0401, a_0410, a_0500, a_1004, a_1013, a_1022, a_1031, a_1040, a_1103, a_1112, a_1121, a_1130, a_1202, a_1211, a_1220, a_1301, a_1310, a_1400,\n",
    "       a_2003, a_2012, a_2021, a_2030, a_2102, a_2111, a_2120, a_2201, a_2210, a_2300, a_3002, a_3011, a_3020, a_3101, a_3110, a_3200, a_4001, a_4010,\n",
    "       a_4100, a_5000, x_11, x_12, x_21, x_22, t, X_0, X_1, X_2, X_3]\n",
    "UX = QQ[a_0005, a_0014, a_0023, a_0032, a_0041, a_0050, a_0104, a_0113, a_0122, a_0131, a_0140, a_0203, a_0212, a_0221, a_0230, a_0302, a_0311, a_0320,\n",
    "       a_0401, a_0410, a_0500, a_1004, a_1013, a_1022, a_1031, a_1040, a_1103, a_1112, a_1121, a_1130, a_1202, a_1211, a_1220, a_1301, a_1310, a_1400,\n",
    "       a_2003, a_2012, a_2021, a_2030, a_2102, a_2111, a_2120, a_2201, a_2210, a_2300, a_3002, a_3011, a_3020, a_3101, a_3110, a_3200, a_4001, a_4010,\n",
    "       a_4100, a_5000, x_11, x_12, x_21, x_22, t][X_0, X_1, X_2, X_3]"
   ]
  },
  {
   "cell_type": "markdown",
   "id": "0fba8639-ca06-4e3b-a629-f4b0f8af2c27",
   "metadata": {},
   "source": [
    "Let `F` be the defining equation of the quintic surface. "
   ]
  },
  {
   "cell_type": "code",
   "execution_count": 3,
   "id": "67fec91b-5224-4b65-a68c-e7bc333fd833",
   "metadata": {},
   "outputs": [],
   "source": [
    "F = U(sum(a_ijkl[i, j, k, l] * X[0]^i * X[1]^j * X[2]^k * X[3]^l for i, j, k, l in a_ijkl))"
   ]
  },
  {
   "cell_type": "markdown",
   "id": "afde34db-3d64-4112-8973-f91cab2a4a6e",
   "metadata": {},
   "source": [
    "Construct an ideal `I` defined by the intersection of the line and the quintic surface."
   ]
  },
  {
   "cell_type": "code",
   "execution_count": 4,
   "id": "344b2ffc-ecd5-4c26-b334-0ff2021b8cd0",
   "metadata": {},
   "outputs": [],
   "source": [
    "I = U.ideal(F, -x_12*X_0 + x_11*X_1 + (x_12*x_21 - x_11*x_22)*X_3, x_22*X_0 - x_21*X_1 + (x_12*x_21 - x_11*x_22)*X_2)"
   ]
  },
  {
   "cell_type": "markdown",
   "id": "49811f4c-9ded-4fe1-a094-c4fbe8500a19",
   "metadata": {},
   "source": [
    "Let `FL` be the restriction of the quintic surface to the line, defined by eliminating the variables `X_0,X_1` from the ideal `I`. "
   ]
  },
  {
   "cell_type": "code",
   "execution_count": 5,
   "id": "1700d8df-eb35-4993-9a1c-7647ec564550",
   "metadata": {},
   "outputs": [],
   "source": [
    "J = I.elimination_ideal([U(X_0), U(X_1)])"
   ]
  },
  {
   "cell_type": "code",
   "execution_count": 6,
   "id": "8004532a-2966-489b-87d2-4c9fe44730c8",
   "metadata": {},
   "outputs": [
    {
     "data": {
      "text/plain": [
       "1"
      ]
     },
     "execution_count": 6,
     "metadata": {},
     "output_type": "execute_result"
    }
   ],
   "source": [
    "J.ngens()"
   ]
  },
  {
   "cell_type": "code",
   "execution_count": 7,
   "id": "061a2da2-f16d-4678-b48d-071303557ef6",
   "metadata": {},
   "outputs": [],
   "source": [
    "FL = U(J.gens()[0])"
   ]
  },
  {
   "cell_type": "markdown",
   "id": "df52a682-85fb-494b-a244-12e29ca4ec92",
   "metadata": {},
   "source": [
    "Depending on our patch of $\\mathbb{P}^{1}$, we have different trivializations. "
   ]
  },
  {
   "cell_type": "markdown",
   "id": "993ee56c-a797-4acc-b1c6-5d674c6c65d5",
   "metadata": {},
   "source": [
    "<h2> On the Patch $V_{0}$ </h2>\n",
    "We have $X_{2}=1$. Denote the restriction of <code>FL</code> to this chart by <code>FL_2</code>. We compute the trivializations as <code>FL_2_0, ..., FL_2_4</code> with <code>F_2_i</code> denoting the i-th Hasse derivative. "
   ]
  },
  {
   "cell_type": "code",
   "execution_count": 8,
   "id": "dda6fd3f-16f2-4592-8393-c1aa022e9321",
   "metadata": {},
   "outputs": [],
   "source": [
    "FL_2 = U(FL.subs(X_2 = 1))"
   ]
  },
  {
   "cell_type": "code",
   "execution_count": 9,
   "id": "985cca34-ca21-4202-936e-eeb037481c86",
   "metadata": {},
   "outputs": [],
   "source": [
    "FL_2_0 = FL_2.subs(X_3 = t)"
   ]
  },
  {
   "cell_type": "code",
   "execution_count": 10,
   "id": "3a52a2e8-182a-4907-bbed-9c154edfa26c",
   "metadata": {},
   "outputs": [],
   "source": [
    "FL_2_1 = univariate_hasse_derivative(FL_2, U(X_3), 1).subs(X_3 = t)"
   ]
  },
  {
   "cell_type": "code",
   "execution_count": 11,
   "id": "2ef8cdcb-ac87-4dfd-8160-415367226e99",
   "metadata": {},
   "outputs": [],
   "source": [
    "FL_2_2 = univariate_hasse_derivative(FL_2, U(X_3), 2).subs(X_3 = t)"
   ]
  },
  {
   "cell_type": "code",
   "execution_count": 12,
   "id": "59522a57-290f-4d2c-9cd7-581b57953c8b",
   "metadata": {},
   "outputs": [],
   "source": [
    "FL_2_3 = univariate_hasse_derivative(FL_2, U(X_3), 3).subs(X_3 = t)"
   ]
  },
  {
   "cell_type": "code",
   "execution_count": 13,
   "id": "3e3208bd-f07a-4b43-aed4-587a5a2b9f1e",
   "metadata": {},
   "outputs": [],
   "source": [
    "FL_2_4 = univariate_hasse_derivative(FL_2, U(X_3), 4).subs(X_3 = t)"
   ]
  },
  {
   "cell_type": "markdown",
   "id": "b470eabb-fee2-45de-8adc-1e648ccd2668",
   "metadata": {},
   "source": [
    "<h2> On the Patch $V_{1}$ </h2>\n",
    "We have $X_{3}=1$. Denote the restriction of <code>FL</code> to this chart by <code>FL_3</code>. We compute the trivializations as <code>FL_3_0, ..., FL_3_4</code> with <code>F_3_i</code> denoting the i-th Hasse derivative. "
   ]
  },
  {
   "cell_type": "code",
   "execution_count": 14,
   "id": "05dc6c43-78f5-4c7d-b4b9-779c4659d612",
   "metadata": {},
   "outputs": [],
   "source": [
    "FL_3 = U(FL.subs(X_3 = 1))"
   ]
  },
  {
   "cell_type": "code",
   "execution_count": 15,
   "id": "15744f9c-db47-485e-ba44-c624360baf92",
   "metadata": {},
   "outputs": [],
   "source": [
    "FL_3_0 = FL_3.subs(X_2 = t)"
   ]
  },
  {
   "cell_type": "code",
   "execution_count": 16,
   "id": "22105964-f219-406c-a466-048182daba51",
   "metadata": {},
   "outputs": [],
   "source": [
    "FL_3_1 = univariate_hasse_derivative(FL_3, U(X_2), 1).subs(X_2 = t)"
   ]
  },
  {
   "cell_type": "code",
   "execution_count": 17,
   "id": "da3ddff4-85fc-4409-842f-f759134e8c87",
   "metadata": {},
   "outputs": [],
   "source": [
    "FL_3_2 = univariate_hasse_derivative(FL_3, U(X_2), 2).subs(X_2 = t)"
   ]
  },
  {
   "cell_type": "code",
   "execution_count": 26,
   "id": "d2e2c43e-839d-45e1-920d-8a77ae40360e",
   "metadata": {},
   "outputs": [],
   "source": [
    "FL_3_3 = univariate_hasse_derivative(FL_3, U(X_2), 3).subs(X_2 = t)"
   ]
  },
  {
   "cell_type": "code",
   "execution_count": 27,
   "id": "ea696084-575a-4fcd-8412-464009f6563a",
   "metadata": {},
   "outputs": [],
   "source": [
    "FL_3_4 = univariate_hasse_derivative(FL_3, U(X_2), 4).subs(X_2 = t)"
   ]
  },
  {
   "cell_type": "code",
   "execution_count": 29,
   "id": "63cad8f6-813e-45c1-88c7-208a2dcccfba",
   "metadata": {},
   "outputs": [
    {
     "data": {
      "text/plain": [
       "5*a_5000*x_11^4*x_12*x_21^2 + 4*a_4100*x_11^3*x_12^2*x_21^2 + 3*a_3200*x_11^2*x_12^3*x_21^2 + 2*a_2300*x_11*x_12^4*x_21^2 + a_1400*x_12^5*x_21^2 - 5*a_5000*x_11^5*x_21*x_22 - 3*a_4100*x_11^4*x_12*x_21*x_22 - a_3200*x_11^3*x_12^2*x_21*x_22 + a_2300*x_11^2*x_12^3*x_21*x_22 + 3*a_1400*x_11*x_12^4*x_21*x_22 + 5*a_0500*x_12^5*x_21*x_22 - a_4100*x_11^5*x_22^2 - 2*a_3200*x_11^4*x_12*x_22^2 - 3*a_2300*x_11^3*x_12^2*x_22^2 - 4*a_1400*x_11^2*x_12^3*x_22^2 - 5*a_0500*x_11*x_12^4*x_22^2 + a_4001*x_11^4*x_12*x_21 + a_3101*x_11^3*x_12^2*x_21 + a_2201*x_11^2*x_12^3*x_21 + a_1301*x_11*x_12^4*x_21 + a_0401*x_12^5*x_21 + 4*a_4010*x_11^3*x_12*x_21^2 + 3*a_3110*x_11^2*x_12^2*x_21^2 + 2*a_2210*x_11*x_12^3*x_21^2 + a_1310*x_12^4*x_21^2 - a_4001*x_11^5*x_22 - a_3101*x_11^4*x_12*x_22 - a_2201*x_11^3*x_12^2*x_22 - a_1301*x_11^2*x_12^3*x_22 - a_0401*x_11*x_12^4*x_22 - 4*a_4010*x_11^4*x_21*x_22 - 2*a_3110*x_11^3*x_12*x_21*x_22 + 2*a_1310*x_11*x_12^3*x_21*x_22 + 4*a_0410*x_12^4*x_21*x_22 - a_3110*x_11^4*x_22^2 - 2*a_2210*x_11^3*x_12*x_22^2 - 3*a_1310*x_11^2*x_12^2*x_22^2 - 4*a_0410*x_11*x_12^3*x_22^2 + a_3011*x_11^3*x_12*x_21 + a_2111*x_11^2*x_12^2*x_21 + a_1211*x_11*x_12^3*x_21 + a_0311*x_12^4*x_21 + 3*a_3020*x_11^2*x_12*x_21^2 + 2*a_2120*x_11*x_12^2*x_21^2 + a_1220*x_12^3*x_21^2 - a_3011*x_11^4*x_22 - a_2111*x_11^3*x_12*x_22 - a_1211*x_11^2*x_12^2*x_22 - a_0311*x_11*x_12^3*x_22 - 3*a_3020*x_11^3*x_21*x_22 - a_2120*x_11^2*x_12*x_21*x_22 + a_1220*x_11*x_12^2*x_21*x_22 + 3*a_0320*x_12^3*x_21*x_22 - a_2120*x_11^3*x_22^2 - 2*a_1220*x_11^2*x_12*x_22^2 - 3*a_0320*x_11*x_12^2*x_22^2 + a_2021*x_11^2*x_12*x_21 + a_1121*x_11*x_12^2*x_21 + a_0221*x_12^3*x_21 + 2*a_2030*x_11*x_12*x_21^2 + a_1130*x_12^2*x_21^2 - a_2021*x_11^3*x_22 - a_1121*x_11^2*x_12*x_22 - a_0221*x_11*x_12^2*x_22 - 2*a_2030*x_11^2*x_21*x_22 + 2*a_0230*x_12^2*x_21*x_22 - a_1130*x_11^2*x_22^2 - 2*a_0230*x_11*x_12*x_22^2 + a_1031*x_11*x_12*x_21 + a_0131*x_12^2*x_21 + a_1040*x_12*x_21^2 - a_1031*x_11^2*x_22 - a_0131*x_11*x_12*x_22 - a_1040*x_11*x_21*x_22 + a_0140*x_12*x_21*x_22 - a_0140*x_11*x_22^2 + a_0041*x_12*x_21 - a_0041*x_11*x_22 + 5*(a_5000*x_11^5*x_12*x_21 + a_4100*x_11^4*x_12^2*x_21 + a_3200*x_11^3*x_12^3*x_21 + a_2300*x_11^2*x_12^4*x_21 + a_1400*x_11*x_12^5*x_21 + a_0500*x_12^6*x_21 - a_5000*x_11^6*x_22 - a_4100*x_11^5*x_12*x_22 - a_3200*x_11^4*x_12^2*x_22 - a_2300*x_11^3*x_12^3*x_22 - a_1400*x_11^2*x_12^4*x_22 - a_0500*x_11*x_12^5*x_22 + a_4010*x_11^4*x_12*x_21 + a_3110*x_11^3*x_12^2*x_21 + a_2210*x_11^2*x_12^3*x_21 + a_1310*x_11*x_12^4*x_21 + a_0410*x_12^5*x_21 - a_4010*x_11^5*x_22 - a_3110*x_11^4*x_12*x_22 - a_2210*x_11^3*x_12^2*x_22 - a_1310*x_11^2*x_12^3*x_22 - a_0410*x_11*x_12^4*x_22 + a_3020*x_11^3*x_12*x_21 + a_2120*x_11^2*x_12^2*x_21 + a_1220*x_11*x_12^3*x_21 + a_0320*x_12^4*x_21 - a_3020*x_11^4*x_22 - a_2120*x_11^3*x_12*x_22 - a_1220*x_11^2*x_12^2*x_22 - a_0320*x_11*x_12^3*x_22 + a_2030*x_11^2*x_12*x_21 + a_1130*x_11*x_12^2*x_21 + a_0230*x_12^3*x_21 - a_2030*x_11^3*x_22 - a_1130*x_11^2*x_12*x_22 - a_0230*x_11*x_12^2*x_22 + a_1040*x_11*x_12*x_21 + a_0140*x_12^2*x_21 - a_1040*x_11^2*x_22 - a_0140*x_11*x_12*x_22 + a_0050*x_12*x_21 - a_0050*x_11*x_22)*t"
      ]
     },
     "execution_count": 29,
     "metadata": {},
     "output_type": "execute_result"
    }
   ],
   "source": [
    "FL_3_4"
   ]
  },
  {
   "cell_type": "code",
   "execution_count": 30,
   "id": "e8630366-53ac-45a3-88a6-4a54094ea241",
   "metadata": {},
   "outputs": [
    {
     "name": "stdout",
     "output_type": "stream",
     "text": [
      "a_5000*X_0^5 + a_4100*X_0^4*X_1 + a_3200*X_0^3*X_1^2 + a_2300*X_0^2*X_1^3 + a_1400*X_0*X_1^4 + a_0500*X_1^5 + a_4010*X_0^4*X_2 + a_3110*X_0^3*X_1*X_2 + a_2210*X_0^2*X_1^2*X_2 + a_1310*X_0*X_1^3*X_2 + a_0410*X_1^4*X_2 + a_3020*X_0^3*X_2^2 + a_2120*X_0^2*X_1*X_2^2 + a_1220*X_0*X_1^2*X_2^2 + a_0320*X_1^3*X_2^2 + a_2030*X_0^2*X_2^3 + a_1130*X_0*X_1*X_2^3 + a_0230*X_1^2*X_2^3 + a_1040*X_0*X_2^4 + a_0140*X_1*X_2^4 + a_0050*X_2^5 + a_4001*X_0^4*X_3 + a_3101*X_0^3*X_1*X_3 + a_2201*X_0^2*X_1^2*X_3 + a_1301*X_0*X_1^3*X_3 + a_0401*X_1^4*X_3 + a_3011*X_0^3*X_2*X_3 + a_2111*X_0^2*X_1*X_2*X_3 + a_1211*X_0*X_1^2*X_2*X_3 + a_0311*X_1^3*X_2*X_3 + a_2021*X_0^2*X_2^2*X_3 + a_1121*X_0*X_1*X_2^2*X_3 + a_0221*X_1^2*X_2^2*X_3 + a_1031*X_0*X_2^3*X_3 + a_0131*X_1*X_2^3*X_3 + a_0041*X_2^4*X_3 + a_3002*X_0^3*X_3^2 + a_2102*X_0^2*X_1*X_3^2 + a_1202*X_0*X_1^2*X_3^2 + a_0302*X_1^3*X_3^2 + a_2012*X_0^2*X_2*X_3^2 + a_1112*X_0*X_1*X_2*X_3^2 + a_0212*X_1^2*X_2*X_3^2 + a_1022*X_0*X_2^2*X_3^2 + a_0122*X_1*X_2^2*X_3^2 + a_0032*X_2^3*X_3^2 + a_2003*X_0^2*X_3^3 + a_1103*X_0*X_1*X_3^3 + a_0203*X_1^2*X_3^3 + a_1013*X_0*X_2*X_3^3 + a_0113*X_1*X_2*X_3^3 + a_0023*X_2^2*X_3^3 + a_1004*X_0*X_3^4 + a_0104*X_1*X_3^4 + a_0014*X_2*X_3^4 + a_0005*X_3^5\n"
     ]
    }
   ],
   "source": [
    "print(F)"
   ]
  },
  {
   "cell_type": "code",
   "execution_count": null,
   "id": "f0de4c3b-db1f-4fea-a692-279790043987",
   "metadata": {},
   "outputs": [],
   "source": []
  }
 ],
 "metadata": {
  "kernelspec": {
   "display_name": "SageMath 9.5",
   "language": "sage",
   "name": "sagemath-9.5"
  },
  "language_info": {
   "codemirror_mode": {
    "name": "ipython",
    "version": 3
   },
   "file_extension": ".py",
   "mimetype": "text/x-python",
   "name": "python",
   "nbconvert_exporter": "python",
   "pygments_lexer": "ipython3",
   "version": "3.9.7"
  }
 },
 "nbformat": 4,
 "nbformat_minor": 5
}
