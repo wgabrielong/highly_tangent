{
 "cells": [
  {
   "cell_type": "markdown",
   "id": "c421ac9c-248b-4c4d-82fc-0609c00036ce",
   "metadata": {},
   "source": [
    "<h2> Septic Threefold </h2>\n",
    "\n",
    "In this file, we compute the trivializations and sections for the case of the highly tangent lines to the septic threefold. \n",
    "\n",
    "Let's first define our function taking the univariate Hasse derivative. "
   ]
  },
  {
   "cell_type": "code",
   "execution_count": 1,
   "id": "fc0586d4-1a9b-4e3d-b88b-f4dc7c2f402e",
   "metadata": {},
   "outputs": [],
   "source": [
    "# Function for the univariate Hasse derivative. \n",
    "def univariate_hasse_derivative(F, v, d):\n",
    "    output = U(0)\n",
    "    deg = F.degree(v)\n",
    "    if d == 0:\n",
    "        return F\n",
    "    elif d > deg:\n",
    "        return 0\n",
    "    else:\n",
    "        coeffs_list = [UX(F).monomial_coefficient(UX(v^i)) for i in range(deg + 1)]\n",
    "        for j in range(d, deg + 1):\n",
    "            output += U(binomial(j, d)*coeffs_list[j]*v^(j-d))\n",
    "        return UX(output)"
   ]
  },
  {
   "cell_type": "markdown",
   "id": "5e633dcf-b227-4c66-a00c-0c855388f788",
   "metadata": {},
   "source": [
    "Let $[X_{0}:X_{1}:X_{2}:X_{3}:X_4]$ be the coordinates on $\\mathbb{P}^{4}$.  \n",
    "\n",
    "Recall that the space of sections $\\Gamma\\left(\\mathbb{P}^{4},\\mathcal{O}_{\\mathbb{P}^{4}}(7)\\right)$ has dimension $\\binom{11}{7}=330$. Let the coordinates be $a_{ijklm}$ for the standard monomial $X_{0}^{i}X_{1}^{j}X_{2}^{k}X_{3}^{l}X_{4}^{m}$. \n",
    "\n",
    "Our line is given by the row span of the matrix \n",
    "$$\\begin{bmatrix}\n",
    "    x_{1,1} & x_{1,2} & x_{1,3} & 1 & 0 \\\\ x_{2,1} & x_{2,2} & x_{2,3} & 0 & 1\n",
    "\\end{bmatrix}$$\n",
    "or equivalently cut out by the equations \n",
    "$$\\frac{x_{1,3}x_{2,2}-x_{1,2}x_{2,3}}{x_{1,2}x_{2,1}-x_{1,1}x_{2,2}}\\cdot X_{0}+\\frac{x_{1,1}x_{2,3}-x_{1,3}x_{2,1}}{x_{1,2}x_{2,1}-x_{1,1}x_{2,2}}\\cdot X_{1} + X_{2}\\hspace{0.5cm}=\\hspace{0.5cm}(x_{1,3}x_{2,2}-x_{1,2}x_{2,3})X_{0}+(x_{1,1}x_{2,3}-x_{1,3}x_{2,1})X_{1}+(x_{1,2}x_{2,1}-x_{1,1}x_{2,2})X_{2}$$\n",
    "$$\\frac{x_{2,2}}{x_{1,2}x_{2,1}-x_{1,1}x_{2,2}}\\cdot X_{0}-\\frac{x_{2,1}}{x_{1,2}x_{2,1}-x_{1,1}x_{2,2}}\\cdot X_{1}+X_{3}\\hspace{0.5cm}=\\hspace{0.5cm}x_{2,2}X_{0}-x_{2,1}X_{1}+(x_{1,2}x_{2,1}-x_{1,1}x_{2,2})X_{3}$$\n",
    "$$-\\frac{x_{1,2}}{x_{1,2}x_{2,1}-x_{1,1}x_{2,2}}\\cdot X_{0}+\\frac{x_{1,1}}{x_{1,2}x_{2,1}-x_{1,1}x_{2,2}}\\cdot X_{1}+X_{4}\\hspace{0.5cm}=\\hspace{0.5cm}-x_{1,2}X_{0}+x_{1,1}X_{1}+(x_{1,2}x_{2,1}-x_{1,1}x_{2,2})X_{4}.$$\n",
    "\n",
    "Our point, depending on the trivialization $V_{0}=[1:t]$ or $V_{1}=[t:1]$ of $\\mathbb{P}^{1}$ is \n",
    "$$[x_{1,1}+tx_{2,1}:x_{1,2}+tx_{2,2}:x_{1,3}+tx_{2,3}:1:t]\\hspace{0.5cm}\\text{or}\\hspace{0.5cm}[tx_{1,1}+x_{2,1}:tx_{1,2}+x_{2,2}:tx_{1,3}+x_{2,3}:t:1].$$"
   ]
  },
  {
   "cell_type": "code",
   "execution_count": 2,
   "id": "96c5cae7-3de1-478f-acd4-0031b72433c2",
   "metadata": {},
   "outputs": [],
   "source": [
    "# Define the a's\n",
    "a_ijklm = {(i, j, k, l, m): var('a_' + str(i) + str(j) + str(k) + str(l) + str(m)) for i in range(8) for j in range(8) for k in range(8) for l in range(8) for m in range(8) if i + j + k + l + m == 7}\n",
    "\n",
    "# Define the X_i's\n",
    "X = [var('X_' + str(i)) for i in range(5)]\n",
    "    \n",
    "# Define the x_ij's and t\n",
    "var('x_11, x_12, x_13, x_21, x_22, x_23, t')\n",
    "    \n",
    "# Define polynomial rings\n",
    "U = QQ[a_00007, a_00016, a_00025, a_00034, a_00043, a_00052, a_00061, a_00070, a_00106, a_00115, a_00124, a_00133, a_00142, a_00151, a_00160, a_00205, a_00214,\n",
    "       a_00223, a_00232, a_00241, a_00250, a_00304, a_00313, a_00322, a_00331, a_00340, a_00403, a_00412, a_00421, a_00430, a_00502, a_00511, a_00520, a_00601,\n",
    "       a_00610, a_00700, a_01006, a_01015, a_01024, a_01033, a_01042, a_01051, a_01060, a_01105, a_01114, a_01123, a_01132, a_01141, a_01150, a_01204, a_01213,\n",
    "       a_01222, a_01231, a_01240, a_01303, a_01312, a_01321, a_01330, a_01402, a_01411, a_01420, a_01501, a_01510, a_01600, a_02005, a_02014, a_02023, a_02032,\n",
    "       a_02041, a_02050, a_02104, a_02113, a_02122, a_02131, a_02140, a_02203, a_02212, a_02221, a_02230, a_02302, a_02311, a_02320, a_02401, a_02410, a_02500,\n",
    "       a_03004, a_03013, a_03022, a_03031, a_03040, a_03103, a_03112, a_03121, a_03130, a_03202, a_03211, a_03220, a_03301, a_03310, a_03400, a_04003, a_04012,\n",
    "       a_04021, a_04030, a_04102, a_04111, a_04120, a_04201, a_04210, a_04300, a_05002, a_05011, a_05020, a_05101, a_05110, a_05200, a_06001, a_06010, a_06100,\n",
    "       a_07000, a_10006, a_10015, a_10024, a_10033, a_10042, a_10051, a_10060, a_10105, a_10114, a_10123, a_10132, a_10141, a_10150, a_10204, a_10213, a_10222,\n",
    "       a_10231, a_10240, a_10303, a_10312, a_10321, a_10330, a_10402, a_10411, a_10420, a_10501, a_10510, a_10600, a_11005, a_11014, a_11023, a_11032, a_11041,\n",
    "       a_11050, a_11104, a_11113, a_11122, a_11131, a_11140, a_11203, a_11212, a_11221, a_11230, a_11302, a_11311, a_11320, a_11401, a_11410, a_11500, a_12004,\n",
    "       a_12013, a_12022, a_12031, a_12040, a_12103, a_12112, a_12121, a_12130, a_12202, a_12211, a_12220, a_12301, a_12310, a_12400, a_13003, a_13012, a_13021,\n",
    "       a_13030, a_13102, a_13111, a_13120, a_13201, a_13210, a_13300, a_14002, a_14011, a_14020, a_14101, a_14110, a_14200, a_15001, a_15010, a_15100, a_16000,\n",
    "       a_20005, a_20014, a_20023, a_20032, a_20041, a_20050, a_20104, a_20113, a_20122, a_20131, a_20140, a_20203, a_20212, a_20221, a_20230, a_20302, a_20311,\n",
    "       a_20320, a_20401, a_20410, a_20500, a_21004, a_21013, a_21022, a_21031, a_21040, a_21103, a_21112, a_21121, a_21130, a_21202, a_21211, a_21220, a_21301,\n",
    "       a_21310, a_21400, a_22003, a_22012, a_22021, a_22030, a_22102, a_22111, a_22120, a_22201, a_22210, a_22300, a_23002, a_23011, a_23020, a_23101, a_23110,\n",
    "       a_23200, a_24001, a_24010, a_24100, a_25000, a_30004, a_30013, a_30022, a_30031, a_30040, a_30103, a_30112, a_30121, a_30130, a_30202, a_30211, a_30220,\n",
    "       a_30301, a_30310, a_30400, a_31003, a_31012, a_31021, a_31030, a_31102, a_31111, a_31120, a_31201, a_31210, a_31300, a_32002, a_32011, a_32020, a_32101,\n",
    "       a_32110, a_32200, a_33001, a_33010, a_33100, a_34000, a_40003, a_40012, a_40021, a_40030, a_40102, a_40111, a_40120, a_40201, a_40210, a_40300, a_41002,\n",
    "       a_41011, a_41020, a_41101, a_41110, a_41200, a_42001, a_42010, a_42100, a_43000, a_50002, a_50011, a_50020, a_50101, a_50110, a_50200, a_51001, a_51010,\n",
    "       a_51100, a_52000, a_60001, a_60010, a_60100, a_61000, a_70000, x_11, x_12, x_13, x_21, x_22, x_23, t, X_0, X_1, X_2, X_3, X_4]\n",
    "\n",
    "UX = QQ[a_00007, a_00016, a_00025, a_00034, a_00043, a_00052, a_00061, a_00070, a_00106, a_00115, a_00124, a_00133, a_00142, a_00151, a_00160, a_00205, a_00214,\n",
    "       a_00223, a_00232, a_00241, a_00250, a_00304, a_00313, a_00322, a_00331, a_00340, a_00403, a_00412, a_00421, a_00430, a_00502, a_00511, a_00520, a_00601,\n",
    "       a_00610, a_00700, a_01006, a_01015, a_01024, a_01033, a_01042, a_01051, a_01060, a_01105, a_01114, a_01123, a_01132, a_01141, a_01150, a_01204, a_01213,\n",
    "       a_01222, a_01231, a_01240, a_01303, a_01312, a_01321, a_01330, a_01402, a_01411, a_01420, a_01501, a_01510, a_01600, a_02005, a_02014, a_02023, a_02032,\n",
    "       a_02041, a_02050, a_02104, a_02113, a_02122, a_02131, a_02140, a_02203, a_02212, a_02221, a_02230, a_02302, a_02311, a_02320, a_02401, a_02410, a_02500,\n",
    "       a_03004, a_03013, a_03022, a_03031, a_03040, a_03103, a_03112, a_03121, a_03130, a_03202, a_03211, a_03220, a_03301, a_03310, a_03400, a_04003, a_04012,\n",
    "       a_04021, a_04030, a_04102, a_04111, a_04120, a_04201, a_04210, a_04300, a_05002, a_05011, a_05020, a_05101, a_05110, a_05200, a_06001, a_06010, a_06100,\n",
    "       a_07000, a_10006, a_10015, a_10024, a_10033, a_10042, a_10051, a_10060, a_10105, a_10114, a_10123, a_10132, a_10141, a_10150, a_10204, a_10213, a_10222,\n",
    "       a_10231, a_10240, a_10303, a_10312, a_10321, a_10330, a_10402, a_10411, a_10420, a_10501, a_10510, a_10600, a_11005, a_11014, a_11023, a_11032, a_11041,\n",
    "       a_11050, a_11104, a_11113, a_11122, a_11131, a_11140, a_11203, a_11212, a_11221, a_11230, a_11302, a_11311, a_11320, a_11401, a_11410, a_11500, a_12004,\n",
    "       a_12013, a_12022, a_12031, a_12040, a_12103, a_12112, a_12121, a_12130, a_12202, a_12211, a_12220, a_12301, a_12310, a_12400, a_13003, a_13012, a_13021,\n",
    "       a_13030, a_13102, a_13111, a_13120, a_13201, a_13210, a_13300, a_14002, a_14011, a_14020, a_14101, a_14110, a_14200, a_15001, a_15010, a_15100, a_16000,\n",
    "       a_20005, a_20014, a_20023, a_20032, a_20041, a_20050, a_20104, a_20113, a_20122, a_20131, a_20140, a_20203, a_20212, a_20221, a_20230, a_20302, a_20311,\n",
    "       a_20320, a_20401, a_20410, a_20500, a_21004, a_21013, a_21022, a_21031, a_21040, a_21103, a_21112, a_21121, a_21130, a_21202, a_21211, a_21220, a_21301,\n",
    "       a_21310, a_21400, a_22003, a_22012, a_22021, a_22030, a_22102, a_22111, a_22120, a_22201, a_22210, a_22300, a_23002, a_23011, a_23020, a_23101, a_23110,\n",
    "       a_23200, a_24001, a_24010, a_24100, a_25000, a_30004, a_30013, a_30022, a_30031, a_30040, a_30103, a_30112, a_30121, a_30130, a_30202, a_30211, a_30220,\n",
    "       a_30301, a_30310, a_30400, a_31003, a_31012, a_31021, a_31030, a_31102, a_31111, a_31120, a_31201, a_31210, a_31300, a_32002, a_32011, a_32020, a_32101,\n",
    "       a_32110, a_32200, a_33001, a_33010, a_33100, a_34000, a_40003, a_40012, a_40021, a_40030, a_40102, a_40111, a_40120, a_40201, a_40210, a_40300, a_41002,\n",
    "       a_41011, a_41020, a_41101, a_41110, a_41200, a_42001, a_42010, a_42100, a_43000, a_50002, a_50011, a_50020, a_50101, a_50110, a_50200, a_51001, a_51010,\n",
    "       a_51100, a_52000, a_60001, a_60010, a_60100, a_61000, a_70000, x_11, x_12, x_13, x_21, x_22, x_23, t][X_0, X_1, X_2, X_3, X_4]"
   ]
  },
  {
   "cell_type": "markdown",
   "id": "0fba8639-ca06-4e3b-a629-f4b0f8af2c27",
   "metadata": {},
   "source": [
    "Let `F` be the defining equation of the septic threefold."
   ]
  },
  {
   "cell_type": "code",
   "execution_count": 3,
   "id": "67fec91b-5224-4b65-a68c-e7bc333fd833",
   "metadata": {},
   "outputs": [],
   "source": [
    "F = U(sum(a_ijklm[i, j, k, l, m] * X[0]^i * X[1]^j * X[2]^k * X[3]^l * X[4]^m for i, j, k, l, m in a_ijklm))"
   ]
  },
  {
   "cell_type": "markdown",
   "id": "afde34db-3d64-4112-8973-f91cab2a4a6e",
   "metadata": {},
   "source": [
    "Construct an ideal `I` defined by the intersection of the line and the septic threefold"
   ]
  },
  {
   "cell_type": "code",
   "execution_count": 4,
   "id": "344b2ffc-ecd5-4c26-b334-0ff2021b8cd0",
   "metadata": {},
   "outputs": [],
   "source": [
    "I = U.ideal(F, (x_13*x_22 - x_12*x_23)*X_0 + (x_11*x_23 - x_13*x_21)*X_1 + (x_12*x_21 - x_11*x_22)*X_2, \n",
    "            x_22*X_0 - x_21*X_1 + (x_12*x_21 - x_11*x_22)*X_3, -x_12*X_0 + x_11*X_1 + (x_12*x_21 - x_11*x_22)*X_4)"
   ]
  },
  {
   "cell_type": "markdown",
   "id": "49811f4c-9ded-4fe1-a094-c4fbe8500a19",
   "metadata": {},
   "source": [
    "Let `FL` be the restriction of the septic threefold to the line, defined by eliminating the variables `X_0, X_1, X_2` from the ideal `I`. "
   ]
  },
  {
   "cell_type": "code",
   "execution_count": 5,
   "id": "1700d8df-eb35-4993-9a1c-7647ec564550",
   "metadata": {},
   "outputs": [],
   "source": [
    "J = I.elimination_ideal([U(X_0), U(X_1), U(X_2)])"
   ]
  },
  {
   "cell_type": "code",
   "execution_count": 6,
   "id": "8004532a-2966-489b-87d2-4c9fe44730c8",
   "metadata": {},
   "outputs": [
    {
     "data": {
      "text/plain": [
       "1"
      ]
     },
     "execution_count": 6,
     "metadata": {},
     "output_type": "execute_result"
    }
   ],
   "source": [
    "J.ngens()"
   ]
  },
  {
   "cell_type": "code",
   "execution_count": 7,
   "id": "061a2da2-f16d-4678-b48d-071303557ef6",
   "metadata": {},
   "outputs": [],
   "source": [
    "FL = U(J.gens()[0])"
   ]
  },
  {
   "cell_type": "markdown",
   "id": "df52a682-85fb-494b-a244-12e29ca4ec92",
   "metadata": {},
   "source": [
    "Depending on our patch of $\\mathbb{P}^{1}$, we have different trivializations. "
   ]
  },
  {
   "cell_type": "markdown",
   "id": "993ee56c-a797-4acc-b1c6-5d674c6c65d5",
   "metadata": {},
   "source": [
    "<h2> On the Patch $V_{0}$ </h2>\n",
    "We have $X_{3}=1$. Denote the restriction of <code>FL</code> to this chart by <code>FL_3</code>. We compute the trivializations as <code>FL_3_0, ..., FL_3_6</code> with <code>F_3_i</code> denoting the i-th Hasse derivative. "
   ]
  },
  {
   "cell_type": "code",
   "execution_count": 8,
   "id": "dda6fd3f-16f2-4592-8393-c1aa022e9321",
   "metadata": {},
   "outputs": [],
   "source": [
    "FL_3 = U(FL.subs(X_3 = 1))"
   ]
  },
  {
   "cell_type": "code",
   "execution_count": 9,
   "id": "985cca34-ca21-4202-936e-eeb037481c86",
   "metadata": {},
   "outputs": [],
   "source": [
    "FL_3_0 = FL_3.subs(X_4 = t)"
   ]
  },
  {
   "cell_type": "code",
   "execution_count": 10,
   "id": "3a52a2e8-182a-4907-bbed-9c154edfa26c",
   "metadata": {},
   "outputs": [],
   "source": [
    "FL_3_1 = univariate_hasse_derivative(FL_3, U(X_4), 1).subs(X_4 = t)"
   ]
  },
  {
   "cell_type": "code",
   "execution_count": 11,
   "id": "2ef8cdcb-ac87-4dfd-8160-415367226e99",
   "metadata": {},
   "outputs": [],
   "source": [
    "FL_3_2 = univariate_hasse_derivative(FL_3, U(X_4), 2).subs(X_4 = t)"
   ]
  },
  {
   "cell_type": "code",
   "execution_count": 12,
   "id": "59522a57-290f-4d2c-9cd7-581b57953c8b",
   "metadata": {},
   "outputs": [],
   "source": [
    "FL_3_3 = univariate_hasse_derivative(FL_3, U(X_4), 3).subs(X_4 = t)"
   ]
  },
  {
   "cell_type": "code",
   "execution_count": 13,
   "id": "3e3208bd-f07a-4b43-aed4-587a5a2b9f1e",
   "metadata": {},
   "outputs": [],
   "source": [
    "FL_3_4 = univariate_hasse_derivative(FL_3, U(X_4), 4).subs(X_4 = t)"
   ]
  },
  {
   "cell_type": "code",
   "execution_count": 14,
   "id": "365cbd36-df35-41e4-bffd-854eb067b9f5",
   "metadata": {},
   "outputs": [],
   "source": [
    "FL_3_5 = univariate_hasse_derivative(FL_3, U(X_4), 5).subs(X_4 = t)"
   ]
  },
  {
   "cell_type": "code",
   "execution_count": 15,
   "id": "5de891f4-d3ae-4c79-b124-3297c7d905c0",
   "metadata": {},
   "outputs": [],
   "source": [
    "FL_3_6 = univariate_hasse_derivative(FL_3, U(X_4), 6).subs(X_4 = t)"
   ]
  },
  {
   "cell_type": "markdown",
   "id": "b470eabb-fee2-45de-8adc-1e648ccd2668",
   "metadata": {},
   "source": [
    "<h2> On the Patch $V_{1}$ </h2>\n",
    "We have $X_{4}=1$. Denote the restriction of <code>FL</code> to this chart by <code>FL_4</code>. We compute the trivializations as <code>FL_4_0, ..., FL_4_6</code> with <code>F_4_i</code> denoting the i-th Hasse derivative. "
   ]
  },
  {
   "cell_type": "code",
   "execution_count": 16,
   "id": "05dc6c43-78f5-4c7d-b4b9-779c4659d612",
   "metadata": {},
   "outputs": [],
   "source": [
    "FL_4 = U(FL.subs(X_4 = 1))"
   ]
  },
  {
   "cell_type": "code",
   "execution_count": 17,
   "id": "15744f9c-db47-485e-ba44-c624360baf92",
   "metadata": {},
   "outputs": [],
   "source": [
    "FL_4_0 = FL_3.subs(X_3 = t)"
   ]
  },
  {
   "cell_type": "code",
   "execution_count": 18,
   "id": "22105964-f219-406c-a466-048182daba51",
   "metadata": {},
   "outputs": [],
   "source": [
    "FL_4_1 = univariate_hasse_derivative(FL_4, U(X_3), 1).subs(X_3 = t)"
   ]
  },
  {
   "cell_type": "code",
   "execution_count": 19,
   "id": "da3ddff4-85fc-4409-842f-f759134e8c87",
   "metadata": {},
   "outputs": [],
   "source": [
    "FL_4_2 = univariate_hasse_derivative(FL_4, U(X_3), 2).subs(X_3 = t)"
   ]
  },
  {
   "cell_type": "code",
   "execution_count": 20,
   "id": "d2e2c43e-839d-45e1-920d-8a77ae40360e",
   "metadata": {},
   "outputs": [],
   "source": [
    "FL_4_3 = univariate_hasse_derivative(FL_4, U(X_3), 4).subs(X_3 = t)"
   ]
  },
  {
   "cell_type": "code",
   "execution_count": 21,
   "id": "ea696084-575a-4fcd-8412-464009f6563a",
   "metadata": {},
   "outputs": [],
   "source": [
    "FL_4_4 = univariate_hasse_derivative(FL_4, U(X_3), 4).subs(X_3 = t)"
   ]
  },
  {
   "cell_type": "code",
   "execution_count": 22,
   "id": "ecacc161-0069-4ab0-bf43-9420b7893d87",
   "metadata": {},
   "outputs": [],
   "source": [
    "FL_4_5 = univariate_hasse_derivative(FL_4, U(X_3), 5).subs(X_3 = t)"
   ]
  },
  {
   "cell_type": "code",
   "execution_count": 23,
   "id": "05d01cba-3dc7-4c97-9a87-ae13729e0aab",
   "metadata": {},
   "outputs": [],
   "source": [
    "FL_4_6 = univariate_hasse_derivative(FL_4, U(X_3), 6).subs(X_3 = t)"
   ]
  }
 ],
 "metadata": {
  "kernelspec": {
   "display_name": "SageMath 9.5",
   "language": "sage",
   "name": "sagemath-9.5"
  },
  "language_info": {
   "codemirror_mode": {
    "name": "ipython",
    "version": 3
   },
   "file_extension": ".py",
   "mimetype": "text/x-python",
   "name": "python",
   "nbconvert_exporter": "python",
   "pygments_lexer": "ipython3",
   "version": "3.9.7"
  }
 },
 "nbformat": 4,
 "nbformat_minor": 5
}
