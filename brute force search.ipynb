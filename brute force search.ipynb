{
 "cells": [
  {
   "cell_type": "code",
   "execution_count": 26,
   "id": "333dc799-1902-4943-9593-a4cb4c1347d7",
   "metadata": {},
   "outputs": [],
   "source": [
    "from sage.all import *"
   ]
  },
  {
   "cell_type": "code",
   "execution_count": 42,
   "id": "6b6cc124-259c-4744-8e94-2620c2f42047",
   "metadata": {},
   "outputs": [],
   "source": [
    "def A(r, m):\n",
    "    return -1 + (m*binomial(m+r-1,m))/r\n",
    "\n",
    "def B(r, m):\n",
    "    return ((m-1)*binomial(m+r-1,m-1))/(r+1)"
   ]
  },
  {
   "cell_type": "code",
   "execution_count": 43,
   "id": "15661df6-dcd2-4325-b155-bad19c12e6a9",
   "metadata": {},
   "outputs": [],
   "source": [
    "def find_solutions(min_val, max_val):\n",
    "    solutions = []\n",
    "    for m in range(min_val, max_val):\n",
    "        for n in range(min_val, max_val):\n",
    "            for r in range(min_val, min(n, max_val+1)):\n",
    "                if (r^2*(n-r) + r*n == m*binomial(m+r-1,m)) and (m*(1+A(r,m)) % 2 == 0) and (((-r-1)*B(r,m)-r-1) % 2 == 0) and ((B(r,m)-n) % 2 == 0):\n",
    "                    solutions.append((m, r, m, n))\n",
    "                elif (r^2*(n-r) + r*n == m*binomial(m+r-1,m)) and ((m+1)*(1+A(r,m)) % 2 == 0) and (((-r-1)*B(r,m)-r-1) % 2 == 0) and ((B(r,m)-n) % 2 == 0):\n",
    "                    solutions.append((m+1,r,m,n))\n",
    "                else:\n",
    "                    pass\n",
    "                    \n",
    "    return solutions"
   ]
  },
  {
   "cell_type": "code",
   "execution_count": null,
   "id": "4999454f-f7ca-494a-aec4-fa7b18143dc1",
   "metadata": {},
   "outputs": [],
   "source": [
    "# Test\n",
    "print(find_solutions(1,1000))"
   ]
  },
  {
   "cell_type": "code",
   "execution_count": null,
   "id": "027dced1",
   "metadata": {},
   "outputs": [],
   "source": []
  }
 ],
 "metadata": {
  "kernelspec": {
   "display_name": "SageMath 10.0",
   "language": "sage",
   "name": "sagemath-10.0"
  },
  "language_info": {
   "codemirror_mode": {
    "name": "ipython",
    "version": 3
   },
   "file_extension": ".py",
   "mimetype": "text/x-python",
   "name": "python",
   "nbconvert_exporter": "python",
   "pygments_lexer": "ipython3",
   "version": "3.11.1"
  }
 },
 "nbformat": 4,
 "nbformat_minor": 5
}
