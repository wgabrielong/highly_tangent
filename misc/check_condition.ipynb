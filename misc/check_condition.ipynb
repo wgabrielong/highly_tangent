{
 "cells": [
  {
   "cell_type": "code",
   "execution_count": 27,
   "id": "577dd131-0214-4fd2-9751-4409a1cc598e",
   "metadata": {},
   "outputs": [],
   "source": [
    "using Combinatorics"
   ]
  },
  {
   "cell_type": "code",
   "execution_count": 28,
   "id": "42cf977e-d921-4d81-a916-61c3185e50fc",
   "metadata": {},
   "outputs": [
    {
     "data": {
      "text/plain": [
       "B (generic function with 1 method)"
      ]
     },
     "execution_count": 28,
     "metadata": {},
     "output_type": "execute_result"
    }
   ],
   "source": [
    "function binomial_parity(n::Int, k::Int)\n",
    "    while k > 0\n",
    "        if (k & 1) > (n & 1)\n",
    "            return 0  # Even\n",
    "        end\n",
    "        n >>= 1\n",
    "        k >>= 1\n",
    "    end\n",
    "    return 1  # Odd\n",
    "end\n",
    "\n",
    "function B(r, m)\n",
    "        return ((m-1)*binomial(BigInt(m+r-1),BigInt(m-1)))/(r+1)\n",
    "end"
   ]
  },
  {
   "cell_type": "code",
   "execution_count": 47,
   "id": "65b92d11-deda-4d17-ab00-46f0e04b9b6b",
   "metadata": {},
   "outputs": [
    {
     "data": {
      "text/plain": [
       "check_condition (generic function with 1 method)"
      ]
     },
     "execution_count": 47,
     "metadata": {},
     "output_type": "execute_result"
    }
   ],
   "source": [
    "function check_condition(r)\n",
    "    r_fact = factorial(r)\n",
    "    for m in 1:factorial(r + 1)\n",
    "        product = 1\n",
    "        for k in 0:(r-1)\n",
    "            product *= (m + k)\n",
    "        end\n",
    "        if (r^2 * r_fact + product) % factorial(r + 1) == 0\n",
    "            n = (r^2 * r_fact + product) ÷ factorial(r + 1)\n",
    "            if r*(n-r)+n - binomial(BigInt(m+r-1), BigInt(r)) == 0\n",
    "                if ((-m+1)*binomial_parity(m-r-1,r)-r-1) % 2 == 0 && ((B(r,m)-n) % 2 == 0)\n",
    "                    println(\"The tuple r = $(r), m = $(m), and n = $(n) describes an orientable bundle of principal parts.\")\n",
    "                else\n",
    "                    #println(\"The tuple r = $(r), m = $(m), and n = $(n) satisfies congruence and rank but does not define an orientable bundle.\") \n",
    "                end\n",
    "            end\n",
    "        else\n",
    "            #println(\"The tuple r = $(r), m = $(m), and n = $((r^2 * r_fact + product) ÷ factorial(r + 1)) only satisfies congruence.\")\n",
    "        end\n",
    "    end\n",
    "end\n"
   ]
  },
  {
   "cell_type": "code",
   "execution_count": null,
   "id": "5ca7d5f9-3d95-4c05-b867-1687862a87dc",
   "metadata": {},
   "outputs": [],
   "source": [
    "check_condition(13)"
   ]
  },
  {
   "cell_type": "code",
   "execution_count": null,
   "id": "fc23a537-7b74-4ba4-a7e7-4c31a3dd2d62",
   "metadata": {},
   "outputs": [],
   "source": []
  }
 ],
 "metadata": {
  "kernelspec": {
   "display_name": "Julia 1.8.2",
   "language": "julia",
   "name": "julia"
  },
  "language_info": {
   "file_extension": ".jl",
   "mimetype": "application/julia",
   "name": "julia",
   "version": "1.8.2"
  }
 },
 "nbformat": 4,
 "nbformat_minor": 5
}
