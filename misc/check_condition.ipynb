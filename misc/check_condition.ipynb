{
 "cells": [
  {
   "cell_type": "code",
   "execution_count": 1,
   "id": "577dd131-0214-4fd2-9751-4409a1cc598e",
   "metadata": {},
   "outputs": [],
   "source": [
    "using Combinatorics"
   ]
  },
  {
   "cell_type": "code",
   "execution_count": 2,
   "id": "42cf977e-d921-4d81-a916-61c3185e50fc",
   "metadata": {},
   "outputs": [
    {
     "data": {
      "text/plain": [
       "B (generic function with 1 method)"
      ]
     },
     "execution_count": 2,
     "metadata": {},
     "output_type": "execute_result"
    }
   ],
   "source": [
    "function binomial_parity(n::Int, k::Int)\n",
    "    while k > 0\n",
    "        if (k & 1) > (n & 1)\n",
    "            return 0  # Even\n",
    "        end\n",
    "        n >>= 1\n",
    "        k >>= 1\n",
    "    end\n",
    "    return 1  # Odd\n",
    "end\n",
    "\n",
    "function B(r, m)\n",
    "        return ((m-1)*binomial(BigInt(m+r-1),BigInt(m-1)))/(r+1)\n",
    "end"
   ]
  },
  {
   "cell_type": "code",
   "execution_count": 4,
   "id": "65b92d11-deda-4d17-ab00-46f0e04b9b6b",
   "metadata": {},
   "outputs": [
    {
     "data": {
      "text/plain": [
       "check_condition (generic function with 1 method)"
      ]
     },
     "execution_count": 4,
     "metadata": {},
     "output_type": "execute_result"
    }
   ],
   "source": [
    "function check_condition(r)\n",
    "    r_fact = factorial(r)\n",
    "    for m in 1:factorial(r+1)\n",
    "        product = 1\n",
    "        for k in 0:(r-1)\n",
    "            product *= (m + k)\n",
    "        end\n",
    "        if (r^2 * r_fact + product) % factorial(r + 1) == 0\n",
    "            n = (r^2 * r_fact + product) ÷ factorial(r + 1)\n",
    "            if r*(n-r)+n - binomial(BigInt(m+r-1), BigInt(r)) == 0\n",
    "                if ((-m+1)*binomial_parity(m-r-1,r)-r-1) % 2 == 0 && ((B(r,m)-n) % 2 == 0)\n",
    "                    println(\"The tuple r = $(r), m = $(m), and n = $(n) describes an orientable bundle of principal parts.\")\n",
    "                else\n",
    "                    println(\"The tuple r = $(r), m = $(m), and n = $(n) satisfies congruence and rank but does not define an orientable bundle.\") \n",
    "                end\n",
    "            end\n",
    "        else\n",
    "            println(\"The tuple r = $(r), m = $(m), and n = $((r^2 * r_fact + product) ÷ factorial(r + 1)) only satisfies congruence.\")\n",
    "        end\n",
    "    end\n",
    "end\n"
   ]
  },
  {
   "cell_type": "code",
   "execution_count": 18,
   "id": "5ca7d5f9-3d95-4c05-b867-1687862a87dc",
   "metadata": {},
   "outputs": [
    {
     "name": "stdout",
     "output_type": "stream",
     "text": [
      "The tuple r = 4, m = 1, and n = 3 only satisfies congruence.\n",
      "The tuple r = 4, m = 2, and n = 4 only satisfies congruence.\n",
      "The tuple r = 4, m = 3, and n = 6 only satisfies congruence.\n",
      "The tuple r = 4, m = 4, and n = 10 only satisfies congruence.\n",
      "The tuple r = 4, m = 5, and n = 17 only satisfies congruence.\n",
      "The tuple r = 4, m = 6, and n = 28 only satisfies congruence.\n",
      "The tuple r = 4, m = 7, and n = 45 only satisfies congruence.\n",
      "The tuple r = 4, m = 8, and n = 69 only satisfies congruence.\n",
      "The tuple r = 4, m = 9, and n = 102 only satisfies congruence.\n",
      "The tuple r = 4, m = 10, and n = 146 only satisfies congruence.\n",
      "The tuple r = 4, m = 11, and n = 203 only satisfies congruence.\n",
      "The tuple r = 4, m = 12, and n = 276 only satisfies congruence.\n",
      "The tuple r = 4, m = 13, and n = 367 only satisfies congruence.\n",
      "The tuple r = 4, m = 14, and n = 479 only satisfies congruence.\n",
      "The tuple r = 4, m = 15, and n = 615 only satisfies congruence.\n",
      "The tuple r = 4, m = 16, and n = 778 only satisfies congruence.\n",
      "The tuple r = 4, m = 17, and n = 972 only satisfies congruence.\n",
      "The tuple r = 4, m = 18, and n = 1200 only satisfies congruence.\n",
      "The tuple r = 4, m = 19, and n = 1466 only satisfies congruence.\n",
      "The tuple r = 4, m = 20, and n = 1774 only satisfies congruence.\n",
      "The tuple r = 4, m = 21, and n = 2128 only satisfies congruence.\n",
      "The tuple r = 4, m = 22, and n = 2533 only satisfies congruence.\n",
      "The tuple r = 4, m = 23, and n = 2993 only satisfies congruence.\n",
      "The tuple r = 4, m = 24, and n = 3513 only satisfies congruence.\n",
      "The tuple r = 4, m = 25, and n = 4098 only satisfies congruence.\n",
      "The tuple r = 4, m = 26, and n = 4753 only satisfies congruence.\n",
      "The tuple r = 4, m = 27, and n = 5484 only satisfies congruence.\n",
      "The tuple r = 4, m = 28, and n = 6296 only satisfies congruence.\n",
      "The tuple r = 4, m = 29, and n = 7195 only satisfies congruence.\n",
      "The tuple r = 4, m = 30, and n = 8187 only satisfies congruence.\n",
      "The tuple r = 4, m = 31, and n = 9278 only satisfies congruence.\n",
      "The tuple r = 4, m = 32, and n = 10475 only satisfies congruence.\n",
      "The tuple r = 4, m = 33, and n = 11784 only satisfies congruence.\n",
      "The tuple r = 4, m = 34, and n = 13212 only satisfies congruence.\n",
      "The tuple r = 4, m = 35, and n = 14766 only satisfies congruence.\n",
      "The tuple r = 4, m = 36, and n = 16453 only satisfies congruence.\n",
      "The tuple r = 4, m = 37, and n = 18281 only satisfies congruence.\n",
      "The tuple r = 4, m = 38, and n = 20257 only satisfies congruence.\n",
      "The tuple r = 4, m = 39, and n = 22389 only satisfies congruence.\n",
      "The tuple r = 4, m = 40, and n = 24685 only satisfies congruence.\n",
      "The tuple r = 4, m = 41, and n = 27153 only satisfies congruence.\n",
      "The tuple r = 4, m = 42, and n = 29802 only satisfies congruence.\n",
      "The tuple r = 4, m = 43, and n = 32640 only satisfies congruence.\n",
      "The tuple r = 4, m = 44, and n = 35676 only satisfies congruence.\n",
      "The tuple r = 4, m = 45, and n = 38919 only satisfies congruence.\n",
      "The tuple r = 4, m = 46, and n = 42378 only satisfies congruence.\n",
      "The tuple r = 4, m = 47, and n = 46063 only satisfies congruence.\n",
      "The tuple r = 4, m = 48, and n = 49983 only satisfies congruence.\n",
      "The tuple r = 4, m = 49, and n = 54148 only satisfies congruence.\n",
      "The tuple r = 4, m = 50, and n = 58568 only satisfies congruence.\n",
      "The tuple r = 4, m = 51, and n = 63253 only satisfies congruence.\n",
      "The tuple r = 4, m = 52, and n = 68214 only satisfies congruence.\n",
      "The tuple r = 4, m = 53, and n = 73461 only satisfies congruence.\n",
      "The tuple r = 4, m = 54, and n = 79005 only satisfies congruence.\n",
      "The tuple r = 4, m = 55, and n = 84857 only satisfies congruence.\n",
      "The tuple r = 4, m = 56, and n = 91028 only satisfies congruence.\n",
      "The tuple r = 4, m = 57, and n = 97530 only satisfies congruence.\n",
      "The tuple r = 4, m = 58, and n = 104374 only satisfies congruence.\n",
      "The tuple r = 4, m = 59, and n = 111572 only satisfies congruence.\n",
      "The tuple r = 4, m = 60, and n = 119136 only satisfies congruence.\n",
      "The tuple r = 4, m = 61, and n = 127078 only satisfies congruence.\n",
      "The tuple r = 4, m = 62, and n = 135411 only satisfies congruence.\n",
      "The tuple r = 4, m = 63, and n = 144147 only satisfies congruence.\n",
      "The tuple r = 4, m = 64, and n = 153299 only satisfies congruence.\n",
      "The tuple r = 4, m = 65, and n = 162880 only satisfies congruence.\n",
      "The tuple r = 4, m = 66, and n = 172903 only satisfies congruence.\n",
      "The tuple r = 4, m = 67, and n = 183382 only satisfies congruence.\n",
      "The tuple r = 4, m = 68, and n = 194330 only satisfies congruence.\n",
      "The tuple r = 4, m = 69, and n = 205761 only satisfies congruence.\n",
      "The tuple r = 4, m = 70, and n = 217689 only satisfies congruence.\n",
      "The tuple r = 4, m = 71, and n = 230128 only satisfies congruence.\n",
      "The tuple r = 4, m = 72, and n = 243093 only satisfies congruence.\n",
      "The tuple r = 4, m = 73, and n = 256598 only satisfies congruence.\n",
      "The tuple r = 4, m = 74, and n = 270658 only satisfies congruence.\n",
      "The tuple r = 4, m = 75, and n = 285288 only satisfies congruence.\n",
      "The tuple r = 4, m = 76, and n = 300503 only satisfies congruence.\n",
      "The tuple r = 4, m = 77, and n = 316319 only satisfies congruence.\n",
      "The tuple r = 4, m = 78, and n = 332751 only satisfies congruence.\n",
      "The tuple r = 4, m = 79, and n = 349815 only satisfies congruence.\n",
      "The tuple r = 4, m = 80, and n = 367527 only satisfies congruence.\n",
      "The tuple r = 4, m = 81, and n = 385903 only satisfies congruence.\n",
      "The tuple r = 4, m = 82, and n = 404960 only satisfies congruence.\n",
      "The tuple r = 4, m = 83, and n = 424714 only satisfies congruence.\n",
      "The tuple r = 4, m = 84, and n = 445182 only satisfies congruence.\n",
      "The tuple r = 4, m = 85, and n = 466381 only satisfies congruence.\n",
      "The tuple r = 4, m = 86, and n = 488328 only satisfies congruence.\n",
      "The tuple r = 4, m = 87, and n = 511041 only satisfies congruence.\n",
      "The tuple r = 4, m = 88, and n = 534537 only satisfies congruence.\n",
      "The tuple r = 4, m = 89, and n = 558834 only satisfies congruence.\n",
      "The tuple r = 4, m = 90, and n = 583950 only satisfies congruence.\n",
      "The tuple r = 4, m = 91, and n = 609903 only satisfies congruence.\n",
      "The tuple r = 4, m = 92, and n = 636712 only satisfies congruence.\n",
      "The tuple r = 4, m = 93, and n = 664395 only satisfies congruence.\n",
      "The tuple r = 4, m = 94, and n = 692971 only satisfies congruence.\n",
      "The tuple r = 4, m = 95, and n = 722459 only satisfies congruence.\n",
      "The tuple r = 4, m = 96, and n = 752878 only satisfies congruence.\n",
      "The tuple r = 4, m = 97, and n = 784248 only satisfies congruence.\n",
      "The tuple r = 4, m = 98, and n = 816588 only satisfies congruence.\n",
      "The tuple r = 4, m = 99, and n = 849918 only satisfies congruence.\n",
      "The tuple r = 4, m = 100, and n = 884258 only satisfies congruence.\n",
      "The tuple r = 4, m = 101, and n = 919628 only satisfies congruence.\n",
      "The tuple r = 4, m = 102, and n = 956049 only satisfies congruence.\n",
      "The tuple r = 4, m = 103, and n = 993541 only satisfies congruence.\n",
      "The tuple r = 4, m = 104, and n = 1032125 only satisfies congruence.\n",
      "The tuple r = 4, m = 105, and n = 1071822 only satisfies congruence.\n",
      "The tuple r = 4, m = 106, and n = 1112653 only satisfies congruence.\n",
      "The tuple r = 4, m = 107, and n = 1154640 only satisfies congruence.\n",
      "The tuple r = 4, m = 108, and n = 1197804 only satisfies congruence.\n",
      "The tuple r = 4, m = 109, and n = 1242167 only satisfies congruence.\n",
      "The tuple r = 4, m = 110, and n = 1287751 only satisfies congruence.\n",
      "The tuple r = 4, m = 111, and n = 1334578 only satisfies congruence.\n",
      "The tuple r = 4, m = 112, and n = 1382671 only satisfies congruence.\n",
      "The tuple r = 4, m = 113, and n = 1432052 only satisfies congruence.\n",
      "The tuple r = 4, m = 114, and n = 1482744 only satisfies congruence.\n",
      "The tuple r = 4, m = 115, and n = 1534770 only satisfies congruence.\n",
      "The tuple r = 4, m = 116, and n = 1588153 only satisfies congruence.\n",
      "The tuple r = 4, m = 117, and n = 1642917 only satisfies congruence.\n",
      "The tuple r = 4, m = 118, and n = 1699085 only satisfies congruence.\n",
      "The tuple r = 4, m = 119, and n = 1756681 only satisfies congruence.\n",
      "The tuple r = 4, m = 120, and n = 1815729 only satisfies congruence.\n"
     ]
    }
   ],
   "source": [
    "check_condition(4)"
   ]
  },
  {
   "cell_type": "code",
   "execution_count": null,
   "id": "e5e2af6f-4b9c-43a0-af45-6ea1570ba178",
   "metadata": {},
   "outputs": [],
   "source": []
  }
 ],
 "metadata": {
  "kernelspec": {
   "display_name": "Julia 1.8.2",
   "language": "julia",
   "name": "julia"
  },
  "language_info": {
   "file_extension": ".jl",
   "mimetype": "application/julia",
   "name": "julia",
   "version": "1.8.2"
  }
 },
 "nbformat": 4,
 "nbformat_minor": 5
}
